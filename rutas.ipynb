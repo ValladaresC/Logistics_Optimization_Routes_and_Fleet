{
 "cells": [
  {
   "cell_type": "markdown",
   "id": "cc551b66",
   "metadata": {},
   "source": [
    "### Importing Libraries"
   ]
  },
  {
   "cell_type": "code",
   "execution_count": 1,
   "id": "b3f3878a",
   "metadata": {},
   "outputs": [],
   "source": [
    "import pandas as pd\n",
    "import matplotlib.pyplot as plt\n",
    "import seaborn as sns\n",
    "import pyodbc\n",
    "import warnings"
   ]
  },
  {
   "cell_type": "markdown",
   "id": "713d0730",
   "metadata": {},
   "source": [
    "### Database connection"
   ]
  },
  {
   "cell_type": "code",
   "execution_count": 2,
   "id": "fccb8f8d",
   "metadata": {},
   "outputs": [],
   "source": [
    "connection_string = (\n",
    "     \"DRIVER={ODBC Driver 17 for SQL Server};\"\n",
    "     \"SERVER=DESKTOP-T9651BF;\"\n",
    "     \"DATABASE=SC_RUTAS_ENTREGAS;\"\n",
    "     \"UID=carlosv;\"\n",
    "     \"PWD=carlosv12345\"\n",
    ")"
   ]
  },
  {
   "cell_type": "code",
   "execution_count": 3,
   "id": "fd0e9814",
   "metadata": {},
   "outputs": [],
   "source": [
    "conn = pyodbc.connect(connection_string)"
   ]
  },
  {
   "cell_type": "markdown",
   "id": "7a039f6a",
   "metadata": {},
   "source": [
    "### Ignoring warnings"
   ]
  },
  {
   "cell_type": "code",
   "execution_count": 4,
   "id": "d2596a2f",
   "metadata": {},
   "outputs": [],
   "source": [
    "warnings.simplefilter(action='ignore', category=UserWarning) "
   ]
  },
  {
   "cell_type": "markdown",
   "id": "2e4e529c",
   "metadata": {},
   "source": [
    "### Data Exploration"
   ]
  },
  {
   "cell_type": "code",
   "execution_count": 5,
   "id": "c50bd18e",
   "metadata": {},
   "outputs": [
    {
     "data": {
      "text/html": [
       "<div>\n",
       "<style scoped>\n",
       "    .dataframe tbody tr th:only-of-type {\n",
       "        vertical-align: middle;\n",
       "    }\n",
       "\n",
       "    .dataframe tbody tr th {\n",
       "        vertical-align: top;\n",
       "    }\n",
       "\n",
       "    .dataframe thead th {\n",
       "        text-align: right;\n",
       "    }\n",
       "</style>\n",
       "<table border=\"1\" class=\"dataframe\">\n",
       "  <thead>\n",
       "    <tr style=\"text-align: right;\">\n",
       "      <th></th>\n",
       "      <th>id_cliente</th>\n",
       "      <th>nombre</th>\n",
       "      <th>ubicacion</th>\n",
       "      <th>distancia_base_km</th>\n",
       "    </tr>\n",
       "  </thead>\n",
       "  <tbody>\n",
       "    <tr>\n",
       "      <th>0</th>\n",
       "      <td>1</td>\n",
       "      <td>Estación Central</td>\n",
       "      <td>Av. Principal 123</td>\n",
       "      <td>50.0</td>\n",
       "    </tr>\n",
       "    <tr>\n",
       "      <th>1</th>\n",
       "      <td>2</td>\n",
       "      <td>Distribuidora Norte</td>\n",
       "      <td>Calle 45, Sector B</td>\n",
       "      <td>120.0</td>\n",
       "    </tr>\n",
       "    <tr>\n",
       "      <th>2</th>\n",
       "      <td>3</td>\n",
       "      <td>Agropecuaria Fénix</td>\n",
       "      <td>Km 25 Vía Rural</td>\n",
       "      <td>85.0</td>\n",
       "    </tr>\n",
       "    <tr>\n",
       "      <th>3</th>\n",
       "      <td>4</td>\n",
       "      <td>PetroSur S.A.</td>\n",
       "      <td>Zona Industrial</td>\n",
       "      <td>90.0</td>\n",
       "    </tr>\n",
       "  </tbody>\n",
       "</table>\n",
       "</div>"
      ],
      "text/plain": [
       "   id_cliente               nombre           ubicacion  distancia_base_km\n",
       "0           1     Estación Central   Av. Principal 123               50.0\n",
       "1           2  Distribuidora Norte  Calle 45, Sector B              120.0\n",
       "2           3   Agropecuaria Fénix     Km 25 Vía Rural               85.0\n",
       "3           4        PetroSur S.A.     Zona Industrial               90.0"
      ]
     },
     "execution_count": 5,
     "metadata": {},
     "output_type": "execute_result"
    }
   ],
   "source": [
    "query = \"select * from dbo.clientes;\"\n",
    "df_clientes = pd.read_sql(query, conn)\n",
    "df_clientes"
   ]
  },
  {
   "cell_type": "code",
   "execution_count": 6,
   "id": "8863c14c",
   "metadata": {},
   "outputs": [
    {
     "data": {
      "text/html": [
       "<div>\n",
       "<style scoped>\n",
       "    .dataframe tbody tr th:only-of-type {\n",
       "        vertical-align: middle;\n",
       "    }\n",
       "\n",
       "    .dataframe tbody tr th {\n",
       "        vertical-align: top;\n",
       "    }\n",
       "\n",
       "    .dataframe thead th {\n",
       "        text-align: right;\n",
       "    }\n",
       "</style>\n",
       "<table border=\"1\" class=\"dataframe\">\n",
       "  <thead>\n",
       "    <tr style=\"text-align: right;\">\n",
       "      <th></th>\n",
       "      <th>id_camion</th>\n",
       "      <th>placa_vehiculo</th>\n",
       "      <th>capacidad_lts</th>\n",
       "      <th>consumo_km_lts</th>\n",
       "    </tr>\n",
       "  </thead>\n",
       "  <tbody>\n",
       "    <tr>\n",
       "      <th>0</th>\n",
       "      <td>1</td>\n",
       "      <td>P00-111</td>\n",
       "      <td>30000</td>\n",
       "      <td>2.5</td>\n",
       "    </tr>\n",
       "    <tr>\n",
       "      <th>1</th>\n",
       "      <td>2</td>\n",
       "      <td>P00-222</td>\n",
       "      <td>25000</td>\n",
       "      <td>2.0</td>\n",
       "    </tr>\n",
       "    <tr>\n",
       "      <th>2</th>\n",
       "      <td>3</td>\n",
       "      <td>P00-333</td>\n",
       "      <td>35000</td>\n",
       "      <td>1.5</td>\n",
       "    </tr>\n",
       "  </tbody>\n",
       "</table>\n",
       "</div>"
      ],
      "text/plain": [
       "   id_camion placa_vehiculo  capacidad_lts  consumo_km_lts\n",
       "0          1        P00-111          30000             2.5\n",
       "1          2        P00-222          25000             2.0\n",
       "2          3        P00-333          35000             1.5"
      ]
     },
     "execution_count": 6,
     "metadata": {},
     "output_type": "execute_result"
    }
   ],
   "source": [
    "query = \"select * from dbo.camiones;\"\n",
    "df_camiones = pd.read_sql(query, conn)\n",
    "df_camiones"
   ]
  },
  {
   "cell_type": "code",
   "execution_count": 6,
   "id": "26601053",
   "metadata": {},
   "outputs": [
    {
     "data": {
      "text/html": [
       "<div>\n",
       "<style scoped>\n",
       "    .dataframe tbody tr th:only-of-type {\n",
       "        vertical-align: middle;\n",
       "    }\n",
       "\n",
       "    .dataframe tbody tr th {\n",
       "        vertical-align: top;\n",
       "    }\n",
       "\n",
       "    .dataframe thead th {\n",
       "        text-align: right;\n",
       "    }\n",
       "</style>\n",
       "<table border=\"1\" class=\"dataframe\">\n",
       "  <thead>\n",
       "    <tr style=\"text-align: right;\">\n",
       "      <th></th>\n",
       "      <th>id_entregas</th>\n",
       "      <th>id_camion</th>\n",
       "      <th>id_cliente</th>\n",
       "      <th>fecha_entrega</th>\n",
       "      <th>litros_entregados</th>\n",
       "      <th>entrega_minutos</th>\n",
       "      <th>km_recorridos</th>\n",
       "      <th>costo_combustible_lts</th>\n",
       "    </tr>\n",
       "  </thead>\n",
       "  <tbody>\n",
       "    <tr>\n",
       "      <th>0</th>\n",
       "      <td>1</td>\n",
       "      <td>1</td>\n",
       "      <td>1</td>\n",
       "      <td>2024-09-01</td>\n",
       "      <td>25000</td>\n",
       "      <td>140</td>\n",
       "      <td>110.0</td>\n",
       "      <td>0.85</td>\n",
       "    </tr>\n",
       "    <tr>\n",
       "      <th>1</th>\n",
       "      <td>2</td>\n",
       "      <td>2</td>\n",
       "      <td>2</td>\n",
       "      <td>2024-09-01</td>\n",
       "      <td>20000</td>\n",
       "      <td>300</td>\n",
       "      <td>250.0</td>\n",
       "      <td>0.85</td>\n",
       "    </tr>\n",
       "    <tr>\n",
       "      <th>2</th>\n",
       "      <td>3</td>\n",
       "      <td>3</td>\n",
       "      <td>3</td>\n",
       "      <td>2024-09-02</td>\n",
       "      <td>30000</td>\n",
       "      <td>220</td>\n",
       "      <td>180.0</td>\n",
       "      <td>0.86</td>\n",
       "    </tr>\n",
       "    <tr>\n",
       "      <th>3</th>\n",
       "      <td>4</td>\n",
       "      <td>1</td>\n",
       "      <td>1</td>\n",
       "      <td>2024-09-02</td>\n",
       "      <td>28000</td>\n",
       "      <td>155</td>\n",
       "      <td>105.0</td>\n",
       "      <td>0.86</td>\n",
       "    </tr>\n",
       "    <tr>\n",
       "      <th>4</th>\n",
       "      <td>5</td>\n",
       "      <td>3</td>\n",
       "      <td>4</td>\n",
       "      <td>2024-09-03</td>\n",
       "      <td>32000</td>\n",
       "      <td>380</td>\n",
       "      <td>280.0</td>\n",
       "      <td>0.85</td>\n",
       "    </tr>\n",
       "    <tr>\n",
       "      <th>5</th>\n",
       "      <td>6</td>\n",
       "      <td>2</td>\n",
       "      <td>3</td>\n",
       "      <td>2024-09-03</td>\n",
       "      <td>24000</td>\n",
       "      <td>200</td>\n",
       "      <td>175.0</td>\n",
       "      <td>0.85</td>\n",
       "    </tr>\n",
       "  </tbody>\n",
       "</table>\n",
       "</div>"
      ],
      "text/plain": [
       "   id_entregas  id_camion  id_cliente fecha_entrega  litros_entregados  \\\n",
       "0            1          1           1    2024-09-01              25000   \n",
       "1            2          2           2    2024-09-01              20000   \n",
       "2            3          3           3    2024-09-02              30000   \n",
       "3            4          1           1    2024-09-02              28000   \n",
       "4            5          3           4    2024-09-03              32000   \n",
       "5            6          2           3    2024-09-03              24000   \n",
       "\n",
       "   entrega_minutos  km_recorridos  costo_combustible_lts  \n",
       "0              140          110.0                   0.85  \n",
       "1              300          250.0                   0.85  \n",
       "2              220          180.0                   0.86  \n",
       "3              155          105.0                   0.86  \n",
       "4              380          280.0                   0.85  \n",
       "5              200          175.0                   0.85  "
      ]
     },
     "execution_count": 6,
     "metadata": {},
     "output_type": "execute_result"
    }
   ],
   "source": [
    "query = \"select * from dbo.entregas;\"\n",
    "df_entregas = pd.read_sql(query, conn)\n",
    "df_entregas.head(6)"
   ]
  },
  {
   "cell_type": "markdown",
   "id": "87b1d7ea",
   "metadata": {},
   "source": [
    "### Descriptive Analysis"
   ]
  },
  {
   "cell_type": "code",
   "execution_count": 24,
   "id": "53d5f7cc",
   "metadata": {},
   "outputs": [
    {
     "data": {
      "text/html": [
       "<div>\n",
       "<style scoped>\n",
       "    .dataframe tbody tr th:only-of-type {\n",
       "        vertical-align: middle;\n",
       "    }\n",
       "\n",
       "    .dataframe tbody tr th {\n",
       "        vertical-align: top;\n",
       "    }\n",
       "\n",
       "    .dataframe thead th {\n",
       "        text-align: right;\n",
       "    }\n",
       "</style>\n",
       "<table border=\"1\" class=\"dataframe\">\n",
       "  <thead>\n",
       "    <tr style=\"text-align: right;\">\n",
       "      <th></th>\n",
       "      <th>litros_entregados</th>\n",
       "      <th>entrega_minutos</th>\n",
       "      <th>km_recorridos</th>\n",
       "      <th>costo_combustible_lts</th>\n",
       "    </tr>\n",
       "  </thead>\n",
       "  <tbody>\n",
       "    <tr>\n",
       "      <th>count</th>\n",
       "      <td>30.00</td>\n",
       "      <td>30.00</td>\n",
       "      <td>30.00</td>\n",
       "      <td>30.00</td>\n",
       "    </tr>\n",
       "    <tr>\n",
       "      <th>mean</th>\n",
       "      <td>27216.67</td>\n",
       "      <td>262.60</td>\n",
       "      <td>202.07</td>\n",
       "      <td>0.90</td>\n",
       "    </tr>\n",
       "    <tr>\n",
       "      <th>std</th>\n",
       "      <td>4374.07</td>\n",
       "      <td>95.77</td>\n",
       "      <td>72.00</td>\n",
       "      <td>0.04</td>\n",
       "    </tr>\n",
       "    <tr>\n",
       "      <th>min</th>\n",
       "      <td>20000.00</td>\n",
       "      <td>140.00</td>\n",
       "      <td>105.00</td>\n",
       "      <td>0.85</td>\n",
       "    </tr>\n",
       "    <tr>\n",
       "      <th>25%</th>\n",
       "      <td>24125.00</td>\n",
       "      <td>170.00</td>\n",
       "      <td>126.50</td>\n",
       "      <td>0.87</td>\n",
       "    </tr>\n",
       "    <tr>\n",
       "      <th>50%</th>\n",
       "      <td>27500.00</td>\n",
       "      <td>227.50</td>\n",
       "      <td>180.00</td>\n",
       "      <td>0.89</td>\n",
       "    </tr>\n",
       "    <tr>\n",
       "      <th>75%</th>\n",
       "      <td>30000.00</td>\n",
       "      <td>350.00</td>\n",
       "      <td>267.50</td>\n",
       "      <td>0.93</td>\n",
       "    </tr>\n",
       "    <tr>\n",
       "      <th>max</th>\n",
       "      <td>35000.00</td>\n",
       "      <td>420.00</td>\n",
       "      <td>310.00</td>\n",
       "      <td>0.96</td>\n",
       "    </tr>\n",
       "  </tbody>\n",
       "</table>\n",
       "</div>"
      ],
      "text/plain": [
       "       litros_entregados  entrega_minutos  km_recorridos  \\\n",
       "count              30.00            30.00          30.00   \n",
       "mean            27216.67           262.60         202.07   \n",
       "std              4374.07            95.77          72.00   \n",
       "min             20000.00           140.00         105.00   \n",
       "25%             24125.00           170.00         126.50   \n",
       "50%             27500.00           227.50         180.00   \n",
       "75%             30000.00           350.00         267.50   \n",
       "max             35000.00           420.00         310.00   \n",
       "\n",
       "       costo_combustible_lts  \n",
       "count                  30.00  \n",
       "mean                    0.90  \n",
       "std                     0.04  \n",
       "min                     0.85  \n",
       "25%                     0.87  \n",
       "50%                     0.89  \n",
       "75%                     0.93  \n",
       "max                     0.96  "
      ]
     },
     "execution_count": 24,
     "metadata": {},
     "output_type": "execute_result"
    }
   ],
   "source": [
    "df_entregas.drop(columns=['id_entregas', 'id_camion', 'id_cliente', 'fecha_entrega']).describe().round(2)"
   ]
  },
  {
   "cell_type": "markdown",
   "id": "6ed7e7a0",
   "metadata": {},
   "source": [
    "#### Identifying outliers"
   ]
  },
  {
   "cell_type": "code",
   "execution_count": 25,
   "id": "d5bcc715",
   "metadata": {},
   "outputs": [
    {
     "data": {
      "image/png": "[encoded data removed]",
      "text/plain": [
       "<Figure size 640x480 with 1 Axes>"
      ]
     },
     "metadata": {},
     "output_type": "display_data"
    }
   ],
   "source": [
    "sns.boxplot(\n",
    "    data=df_entregas,\n",
    "    y='entrega_minutos',\n",
    "    color = 'skyblue'\n",
    ")\n",
    "plt.title('Boxplot delivery duration')\n",
    "plt.ylabel('Delivery duration, min')\n",
    "plt.show()"
   ]
  },
  {
   "cell_type": "code",
   "execution_count": 26,
   "id": "b200a77a",
   "metadata": {},
   "outputs": [
    {
     "data": {
      "image/png": "[encoded data removed]",
      "text/plain": [
       "<Figure size 640x480 with 1 Axes>"
      ]
     },
     "metadata": {},
     "output_type": "display_data"
    }
   ],
   "source": [
    "sns.boxplot(\n",
    "    data=df_entregas,\n",
    "    x='id_cliente',\n",
    "    y='entrega_minutos',\n",
    "    color='skyblue'\n",
    ")\n",
    "plt.title('Boxplot delivery duration per customer')\n",
    "plt.ylabel('Delivery duration, min')\n",
    "plt.show()"
   ]
  },
  {
   "cell_type": "code",
   "execution_count": 27,
   "id": "6e71f287",
   "metadata": {},
   "outputs": [
    {
     "data": {
      "image/png": "[encoded data removed]",
      "text/plain": [
       "<Figure size 640x480 with 1 Axes>"
      ]
     },
     "metadata": {},
     "output_type": "display_data"
    }
   ],
   "source": [
    "sns.boxplot(\n",
    "    data=df_entregas,\n",
    "    x='id_cliente',\n",
    "    y='km_recorridos',\n",
    "    color='skyblue'\n",
    ")\n",
    "plt.title('Boxplot km traveled per customer')\n",
    "plt.ylabel('Km traveled, km')\n",
    "plt.show()"
   ]
  },
  {
   "cell_type": "markdown",
   "id": "211b1ee4",
   "metadata": {},
   "source": [
    "### KPI: Time Efficiency (Delivery Duration)"
   ]
  },
  {
   "cell_type": "code",
   "execution_count": 11,
   "id": "e1780845",
   "metadata": {},
   "outputs": [
    {
     "data": {
      "text/html": [
       "<div>\n",
       "<style scoped>\n",
       "    .dataframe tbody tr th:only-of-type {\n",
       "        vertical-align: middle;\n",
       "    }\n",
       "\n",
       "    .dataframe tbody tr th {\n",
       "        vertical-align: top;\n",
       "    }\n",
       "\n",
       "    .dataframe thead th {\n",
       "        text-align: right;\n",
       "    }\n",
       "</style>\n",
       "<table border=\"1\" class=\"dataframe\">\n",
       "  <thead>\n",
       "    <tr style=\"text-align: right;\">\n",
       "      <th></th>\n",
       "      <th>cliente</th>\n",
       "      <th>duracion_prom_min</th>\n",
       "      <th>prom_minutos_por_km</th>\n",
       "      <th>estado_eficiencia</th>\n",
       "    </tr>\n",
       "  </thead>\n",
       "  <tbody>\n",
       "    <tr>\n",
       "      <th>0</th>\n",
       "      <td>Estación Central</td>\n",
       "      <td>149</td>\n",
       "      <td>1.4</td>\n",
       "      <td>Entrega Ineficiente</td>\n",
       "    </tr>\n",
       "    <tr>\n",
       "      <th>1</th>\n",
       "      <td>PetroSur S.A.</td>\n",
       "      <td>388</td>\n",
       "      <td>1.3</td>\n",
       "      <td>Entrega Ineficiente</td>\n",
       "    </tr>\n",
       "    <tr>\n",
       "      <th>2</th>\n",
       "      <td>Agropecuaria Fénix</td>\n",
       "      <td>214</td>\n",
       "      <td>1.2</td>\n",
       "      <td>Entrega Eficiente o Aceptable</td>\n",
       "    </tr>\n",
       "    <tr>\n",
       "      <th>3</th>\n",
       "      <td>Distribuidora Norte</td>\n",
       "      <td>309</td>\n",
       "      <td>1.2</td>\n",
       "      <td>Entrega Eficiente o Aceptable</td>\n",
       "    </tr>\n",
       "  </tbody>\n",
       "</table>\n",
       "</div>"
      ],
      "text/plain": [
       "               cliente  duracion_prom_min  prom_minutos_por_km  \\\n",
       "0     Estación Central                149                  1.4   \n",
       "1        PetroSur S.A.                388                  1.3   \n",
       "2   Agropecuaria Fénix                214                  1.2   \n",
       "3  Distribuidora Norte                309                  1.2   \n",
       "\n",
       "               estado_eficiencia  \n",
       "0            Entrega Ineficiente  \n",
       "1            Entrega Ineficiente  \n",
       "2  Entrega Eficiente o Aceptable  \n",
       "3  Entrega Eficiente o Aceptable  "
      ]
     },
     "execution_count": 11,
     "metadata": {},
     "output_type": "execute_result"
    }
   ],
   "source": [
    "query = \"\"\"select c.nombre as cliente, \n",
    "        avg(e.entrega_minutos) as duracion_prom_min,\n",
    "        round(avg(e.entrega_minutos / e.km_recorridos),1) as prom_minutos_por_km,\n",
    "        case \n",
    "                when round(avg(e.entrega_minutos / e.km_recorridos),1) > 1.2 then 'Entrega Ineficiente'\n",
    "                else 'Entrega Eficiente o Aceptable'\n",
    "        end as estado_eficiencia\n",
    "        from entregas e \n",
    "        join clientes c on e.id_cliente = c.id_cliente\n",
    "        group by c.nombre\n",
    "        order by prom_minutos_por_km desc;\"\"\"\n",
    "\n",
    "df_prom_tiempo_recorrido = pd.read_sql(query, conn)\n",
    "df_prom_tiempo_recorrido"
   ]
  },
  {
   "cell_type": "code",
   "execution_count": 12,
   "id": "d2e958b0",
   "metadata": {},
   "outputs": [
    {
     "data": {
      "image/png": "[encoded data removed]",
      "text/plain": [
       "<Figure size 800x400 with 1 Axes>"
      ]
     },
     "metadata": {},
     "output_type": "display_data"
    }
   ],
   "source": [
    "time_efficiency = 1.2 #company goal\n",
    "\n",
    "plt.figure(figsize=(8, 4))\n",
    "\n",
    "plt.bar(df_prom_tiempo_recorrido.cliente,\n",
    "        df_prom_tiempo_recorrido.prom_minutos_por_km,\n",
    "        color='skyblue')\n",
    "plt.axhline(y=time_efficiency, color='gray', linestyle='--', linewidth=2)\n",
    "\n",
    "plt.title('KPI: Time Efficiency (Delivery Duration)')\n",
    "plt.xlabel('Customers')\n",
    "plt.ylabel('Time Efficiency min/km')\n",
    "\n",
    "plt.show()"
   ]
  },
  {
   "cell_type": "markdown",
   "id": "1f8f86b0",
   "metadata": {},
   "source": [
    "#### KPI: Time Efficiency per Truck"
   ]
  },
  {
   "cell_type": "code",
   "execution_count": 13,
   "id": "b17e5f40",
   "metadata": {},
   "outputs": [
    {
     "data": {
      "text/html": [
       "<div>\n",
       "<style scoped>\n",
       "    .dataframe tbody tr th:only-of-type {\n",
       "        vertical-align: middle;\n",
       "    }\n",
       "\n",
       "    .dataframe tbody tr th {\n",
       "        vertical-align: top;\n",
       "    }\n",
       "\n",
       "    .dataframe thead th {\n",
       "        text-align: right;\n",
       "    }\n",
       "</style>\n",
       "<table border=\"1\" class=\"dataframe\">\n",
       "  <thead>\n",
       "    <tr style=\"text-align: right;\">\n",
       "      <th></th>\n",
       "      <th>camiones</th>\n",
       "      <th>viajes_por_camion</th>\n",
       "      <th>total_recorrido</th>\n",
       "      <th>prom_recorrido</th>\n",
       "      <th>total_duracion</th>\n",
       "      <th>prom_duracion</th>\n",
       "    </tr>\n",
       "  </thead>\n",
       "  <tbody>\n",
       "    <tr>\n",
       "      <th>0</th>\n",
       "      <td>1</td>\n",
       "      <td>10</td>\n",
       "      <td>1895.0</td>\n",
       "      <td>189.5</td>\n",
       "      <td>2435</td>\n",
       "      <td>243</td>\n",
       "    </tr>\n",
       "    <tr>\n",
       "      <th>1</th>\n",
       "      <td>2</td>\n",
       "      <td>10</td>\n",
       "      <td>1862.0</td>\n",
       "      <td>186.2</td>\n",
       "      <td>2358</td>\n",
       "      <td>235</td>\n",
       "    </tr>\n",
       "    <tr>\n",
       "      <th>2</th>\n",
       "      <td>3</td>\n",
       "      <td>10</td>\n",
       "      <td>2305.0</td>\n",
       "      <td>230.5</td>\n",
       "      <td>3085</td>\n",
       "      <td>308</td>\n",
       "    </tr>\n",
       "  </tbody>\n",
       "</table>\n",
       "</div>"
      ],
      "text/plain": [
       "   camiones  viajes_por_camion  total_recorrido  prom_recorrido  \\\n",
       "0         1                 10           1895.0           189.5   \n",
       "1         2                 10           1862.0           186.2   \n",
       "2         3                 10           2305.0           230.5   \n",
       "\n",
       "   total_duracion  prom_duracion  \n",
       "0            2435            243  \n",
       "1            2358            235  \n",
       "2            3085            308  "
      ]
     },
     "execution_count": 13,
     "metadata": {},
     "output_type": "execute_result"
    }
   ],
   "source": [
    "query = \"\"\"select c.id_camion as camiones,\n",
    "                count(e.id_entregas) as viajes_por_camion,\n",
    "                sum(e.km_recorridos) as total_recorrido,\n",
    "                avg(e.km_recorridos) as prom_recorrido,\n",
    "                sum(e.entrega_minutos) as total_duracion,\n",
    "                avg(e.entrega_minutos) as prom_duracion\n",
    "            from entregas e\n",
    "            join camiones c on e.id_camion = c.id_camion\n",
    "            group by c.id_camion;\n",
    "        \"\"\"\n",
    "df_recorrido_camion = pd.read_sql(query, conn)\n",
    "df_recorrido_camion"
   ]
  },
  {
   "cell_type": "code",
   "execution_count": 14,
   "id": "abfa2e20",
   "metadata": {},
   "outputs": [
    {
     "data": {
      "text/html": [
       "<div>\n",
       "<style scoped>\n",
       "    .dataframe tbody tr th:only-of-type {\n",
       "        vertical-align: middle;\n",
       "    }\n",
       "\n",
       "    .dataframe tbody tr th {\n",
       "        vertical-align: top;\n",
       "    }\n",
       "\n",
       "    .dataframe thead th {\n",
       "        text-align: right;\n",
       "    }\n",
       "</style>\n",
       "<table border=\"1\" class=\"dataframe\">\n",
       "  <thead>\n",
       "    <tr style=\"text-align: right;\">\n",
       "      <th></th>\n",
       "      <th>camiones</th>\n",
       "      <th>Metric</th>\n",
       "      <th>Value</th>\n",
       "    </tr>\n",
       "  </thead>\n",
       "  <tbody>\n",
       "    <tr>\n",
       "      <th>0</th>\n",
       "      <td>1</td>\n",
       "      <td>prom_recorrido</td>\n",
       "      <td>189.5</td>\n",
       "    </tr>\n",
       "    <tr>\n",
       "      <th>1</th>\n",
       "      <td>2</td>\n",
       "      <td>prom_recorrido</td>\n",
       "      <td>186.2</td>\n",
       "    </tr>\n",
       "    <tr>\n",
       "      <th>2</th>\n",
       "      <td>3</td>\n",
       "      <td>prom_recorrido</td>\n",
       "      <td>230.5</td>\n",
       "    </tr>\n",
       "    <tr>\n",
       "      <th>3</th>\n",
       "      <td>1</td>\n",
       "      <td>prom_duracion</td>\n",
       "      <td>243.0</td>\n",
       "    </tr>\n",
       "    <tr>\n",
       "      <th>4</th>\n",
       "      <td>2</td>\n",
       "      <td>prom_duracion</td>\n",
       "      <td>235.0</td>\n",
       "    </tr>\n",
       "    <tr>\n",
       "      <th>5</th>\n",
       "      <td>3</td>\n",
       "      <td>prom_duracion</td>\n",
       "      <td>308.0</td>\n",
       "    </tr>\n",
       "  </tbody>\n",
       "</table>\n",
       "</div>"
      ],
      "text/plain": [
       "   camiones          Metric  Value\n",
       "0         1  prom_recorrido  189.5\n",
       "1         2  prom_recorrido  186.2\n",
       "2         3  prom_recorrido  230.5\n",
       "3         1   prom_duracion  243.0\n",
       "4         2   prom_duracion  235.0\n",
       "5         3   prom_duracion  308.0"
      ]
     },
     "execution_count": 14,
     "metadata": {},
     "output_type": "execute_result"
    }
   ],
   "source": [
    "df_melted = df_recorrido_camion.melt(\n",
    "    id_vars='camiones',\n",
    "    value_vars=['prom_recorrido', 'prom_duracion'],\n",
    "    var_name='Metric',\n",
    "    value_name='Value'\n",
    ")\n",
    "df_melted"
   ]
  },
  {
   "cell_type": "code",
   "execution_count": 15,
   "id": "74a3913f",
   "metadata": {},
   "outputs": [
    {
     "data": {
      "image/png": "[encoded data removed]",
      "text/plain": [
       "<Figure size 700x400 with 1 Axes>"
      ]
     },
     "metadata": {},
     "output_type": "display_data"
    }
   ],
   "source": [
    "plt.figure(figsize=(7, 4))\n",
    "\n",
    "colores = ['#0077b6', '#90e0ef']\n",
    "\n",
    "sns.barplot(\n",
    "    data=df_melted,\n",
    "    x='camiones',\n",
    "    y='Value',\n",
    "    hue='Metric', \n",
    "    palette= colores\n",
    ")\n",
    "\n",
    "plt.title('Time Efficiency per Truck')\n",
    "plt.xlabel('Truck')\n",
    "plt.ylabel('Value')\n",
    "\n",
    "handles, labels = plt.gca().get_legend_handles_labels()\n",
    "new_labels = ['Avg. Traveled (Km)', 'Avg. Time (Min)']\n",
    "plt.legend(handles, new_labels, title='Metric')\n",
    "\n",
    "plt.tight_layout()\n",
    "\n",
    "plt.show()"
   ]
  },
  {
   "cell_type": "markdown",
   "id": "94263a0b",
   "metadata": {},
   "source": [
    "#### KPI: Cost Efficiency (Fuel Consumption)"
   ]
  },
  {
   "cell_type": "code",
   "execution_count": 9,
   "id": "34fc23a2",
   "metadata": {},
   "outputs": [
    {
     "data": {
      "text/html": [
       "<div>\n",
       "<style scoped>\n",
       "    .dataframe tbody tr th:only-of-type {\n",
       "        vertical-align: middle;\n",
       "    }\n",
       "\n",
       "    .dataframe tbody tr th {\n",
       "        vertical-align: top;\n",
       "    }\n",
       "\n",
       "    .dataframe thead th {\n",
       "        text-align: right;\n",
       "    }\n",
       "</style>\n",
       "<table border=\"1\" class=\"dataframe\">\n",
       "  <thead>\n",
       "    <tr style=\"text-align: right;\">\n",
       "      <th></th>\n",
       "      <th>camiones</th>\n",
       "      <th>entregas_por_camion</th>\n",
       "      <th>costo_total_combust</th>\n",
       "      <th>costo_prom_combust</th>\n",
       "      <th>costo_prom_litros_combust</th>\n",
       "    </tr>\n",
       "  </thead>\n",
       "  <tbody>\n",
       "    <tr>\n",
       "      <th>0</th>\n",
       "      <td>1</td>\n",
       "      <td>10</td>\n",
       "      <td>4256.1</td>\n",
       "      <td>425.6</td>\n",
       "      <td>0.896</td>\n",
       "    </tr>\n",
       "    <tr>\n",
       "      <th>1</th>\n",
       "      <td>2</td>\n",
       "      <td>10</td>\n",
       "      <td>3353.3</td>\n",
       "      <td>335.3</td>\n",
       "      <td>0.900</td>\n",
       "    </tr>\n",
       "    <tr>\n",
       "      <th>2</th>\n",
       "      <td>3</td>\n",
       "      <td>10</td>\n",
       "      <td>3109.9</td>\n",
       "      <td>311.0</td>\n",
       "      <td>0.898</td>\n",
       "    </tr>\n",
       "  </tbody>\n",
       "</table>\n",
       "</div>"
      ],
      "text/plain": [
       "   camiones  entregas_por_camion  costo_total_combust  costo_prom_combust  \\\n",
       "0         1                   10               4256.1               425.6   \n",
       "1         2                   10               3353.3               335.3   \n",
       "2         3                   10               3109.9               311.0   \n",
       "\n",
       "   costo_prom_litros_combust  \n",
       "0                      0.896  \n",
       "1                      0.900  \n",
       "2                      0.898  "
      ]
     },
     "execution_count": 9,
     "metadata": {},
     "output_type": "execute_result"
    }
   ],
   "source": [
    "query = \"\"\"select c.id_camion as camiones,\n",
    "                count(e.id_entregas) as entregas_por_camion,\n",
    "                round(sum(e.costo_combustible_lts * e.km_recorridos * c.consumo_km_lts),1) as costo_total_combust,\n",
    "                round(avg(e.costo_combustible_lts * e.km_recorridos * c.consumo_km_lts),1) as costo_prom_combust,\n",
    "                round(avg(e.costo_combustible_lts),3) as costo_prom_litros_combust\n",
    "            from entregas e\n",
    "            join camiones c on e.id_camion = c.id_camion\n",
    "            group by c.id_camion;\n",
    "        \"\"\"\n",
    "df_costo_camion = pd.read_sql(query, conn)\n",
    "df_costo_camion\n"
   ]
  },
  {
   "cell_type": "code",
   "execution_count": 17,
   "id": "4b12b443",
   "metadata": {},
   "outputs": [
    {
     "name": "stderr",
     "output_type": "stream",
     "text": [
      "C:\\Users\\pc\\AppData\\Local\\Temp\\ipykernel_10724\\2671511170.py:5: FutureWarning: \n",
      "\n",
      "Passing `palette` without assigning `hue` is deprecated and will be removed in v0.14.0. Assign the `x` variable to `hue` and set `legend=False` for the same effect.\n",
      "\n",
      "  sns.barplot(\n"
     ]
    },
    {
     "data": {
      "image/png": "[encoded data removed]",
      "text/plain": [
       "<Figure size 700x400 with 1 Axes>"
      ]
     },
     "metadata": {},
     "output_type": "display_data"
    }
   ],
   "source": [
    "plt.figure(figsize=(7, 4))\n",
    "\n",
    "colores = ['#90e0ef']\n",
    "\n",
    "sns.barplot(\n",
    "    data=df_costo_camion,\n",
    "    x='camiones',\n",
    "    y='costo_prom_combust', \n",
    "    palette= colores\n",
    ")\n",
    "\n",
    "plt.title('Cost Efficiency')\n",
    "plt.xlabel('Truck')\n",
    "plt.ylabel('Cost Avg. Fuel ($)')\n",
    "\n",
    "plt.show()"
   ]
  },
  {
   "cell_type": "markdown",
   "id": "167d987d",
   "metadata": {},
   "source": [
    "#### KPI: Route Deviation Index"
   ]
  },
  {
   "cell_type": "code",
   "execution_count": 11,
   "id": "6ec3314b",
   "metadata": {},
   "outputs": [
    {
     "data": {
      "text/html": [
       "<div>\n",
       "<style scoped>\n",
       "    .dataframe tbody tr th:only-of-type {\n",
       "        vertical-align: middle;\n",
       "    }\n",
       "\n",
       "    .dataframe tbody tr th {\n",
       "        vertical-align: top;\n",
       "    }\n",
       "\n",
       "    .dataframe thead th {\n",
       "        text-align: right;\n",
       "    }\n",
       "</style>\n",
       "<table border=\"1\" class=\"dataframe\">\n",
       "  <thead>\n",
       "    <tr style=\"text-align: right;\">\n",
       "      <th></th>\n",
       "      <th>cliente</th>\n",
       "      <th>recorrido_teorico</th>\n",
       "      <th>recorrido_real</th>\n",
       "      <th>desv_ruta_km</th>\n",
       "      <th>prom_desv_ruta_km</th>\n",
       "      <th>pct_desv_ruta</th>\n",
       "    </tr>\n",
       "  </thead>\n",
       "  <tbody>\n",
       "    <tr>\n",
       "      <th>0</th>\n",
       "      <td>Agropecuaria Fénix</td>\n",
       "      <td>1360.0</td>\n",
       "      <td>1403.0</td>\n",
       "      <td>43.0</td>\n",
       "      <td>5.38</td>\n",
       "      <td>3.16</td>\n",
       "    </tr>\n",
       "    <tr>\n",
       "      <th>1</th>\n",
       "      <td>Distribuidora Norte</td>\n",
       "      <td>1440.0</td>\n",
       "      <td>1490.0</td>\n",
       "      <td>50.0</td>\n",
       "      <td>8.33</td>\n",
       "      <td>3.47</td>\n",
       "    </tr>\n",
       "    <tr>\n",
       "      <th>2</th>\n",
       "      <td>Estación Central</td>\n",
       "      <td>800.0</td>\n",
       "      <td>864.0</td>\n",
       "      <td>64.0</td>\n",
       "      <td>8.00</td>\n",
       "      <td>8.00</td>\n",
       "    </tr>\n",
       "    <tr>\n",
       "      <th>3</th>\n",
       "      <td>PetroSur S.A.</td>\n",
       "      <td>1440.0</td>\n",
       "      <td>2305.0</td>\n",
       "      <td>865.0</td>\n",
       "      <td>108.13</td>\n",
       "      <td>60.07</td>\n",
       "    </tr>\n",
       "  </tbody>\n",
       "</table>\n",
       "</div>"
      ],
      "text/plain": [
       "               cliente  recorrido_teorico  recorrido_real  desv_ruta_km  \\\n",
       "0   Agropecuaria Fénix             1360.0          1403.0          43.0   \n",
       "1  Distribuidora Norte             1440.0          1490.0          50.0   \n",
       "2     Estación Central              800.0           864.0          64.0   \n",
       "3        PetroSur S.A.             1440.0          2305.0         865.0   \n",
       "\n",
       "   prom_desv_ruta_km  pct_desv_ruta  \n",
       "0               5.38           3.16  \n",
       "1               8.33           3.47  \n",
       "2               8.00           8.00  \n",
       "3             108.13          60.07  "
      ]
     },
     "execution_count": 11,
     "metadata": {},
     "output_type": "execute_result"
    }
   ],
   "source": [
    "query =  \"\"\"select c.nombre as cliente,\n",
    "                sum(c.distancia_base_km * 2) as recorrido_teorico,\n",
    "                sum(e.km_recorridos) as recorrido_real,\n",
    "                sum(e.km_recorridos - (c.distancia_base_km * 2)) as desv_ruta_km,\n",
    "\t\t\t\tround(avg(e.km_recorridos - (c.distancia_base_km * 2)),2) as prom_desv_ruta_km,\n",
    "                round(avg( ( (e.km_recorridos - (c.distancia_base_km * 2)) / (c.distancia_base_km * 2) )*100 ),2) as pct_desv_ruta\n",
    "            from entregas e\n",
    "            join clientes c on e.id_cliente = c.id_cliente\n",
    "            group by c.nombre;\n",
    "\"\"\"\n",
    "\n",
    "df_indice_desv_ruta = pd.read_sql(query, conn)\n",
    "df_indice_desv_ruta"
   ]
  },
  {
   "cell_type": "code",
   "execution_count": 12,
   "id": "a46ec9a1",
   "metadata": {},
   "outputs": [
    {
     "data": {
      "text/html": [
       "<div>\n",
       "<style scoped>\n",
       "    .dataframe tbody tr th:only-of-type {\n",
       "        vertical-align: middle;\n",
       "    }\n",
       "\n",
       "    .dataframe tbody tr th {\n",
       "        vertical-align: top;\n",
       "    }\n",
       "\n",
       "    .dataframe thead th {\n",
       "        text-align: right;\n",
       "    }\n",
       "</style>\n",
       "<table border=\"1\" class=\"dataframe\">\n",
       "  <thead>\n",
       "    <tr style=\"text-align: right;\">\n",
       "      <th></th>\n",
       "      <th>cliente</th>\n",
       "      <th>Metric</th>\n",
       "      <th>Value</th>\n",
       "    </tr>\n",
       "  </thead>\n",
       "  <tbody>\n",
       "    <tr>\n",
       "      <th>0</th>\n",
       "      <td>Agropecuaria Fénix</td>\n",
       "      <td>prom_desv_ruta_km</td>\n",
       "      <td>5.38</td>\n",
       "    </tr>\n",
       "    <tr>\n",
       "      <th>1</th>\n",
       "      <td>Distribuidora Norte</td>\n",
       "      <td>prom_desv_ruta_km</td>\n",
       "      <td>8.33</td>\n",
       "    </tr>\n",
       "    <tr>\n",
       "      <th>2</th>\n",
       "      <td>Estación Central</td>\n",
       "      <td>prom_desv_ruta_km</td>\n",
       "      <td>8.00</td>\n",
       "    </tr>\n",
       "    <tr>\n",
       "      <th>3</th>\n",
       "      <td>PetroSur S.A.</td>\n",
       "      <td>prom_desv_ruta_km</td>\n",
       "      <td>108.13</td>\n",
       "    </tr>\n",
       "    <tr>\n",
       "      <th>4</th>\n",
       "      <td>Agropecuaria Fénix</td>\n",
       "      <td>pct_desv_ruta</td>\n",
       "      <td>3.16</td>\n",
       "    </tr>\n",
       "    <tr>\n",
       "      <th>5</th>\n",
       "      <td>Distribuidora Norte</td>\n",
       "      <td>pct_desv_ruta</td>\n",
       "      <td>3.47</td>\n",
       "    </tr>\n",
       "    <tr>\n",
       "      <th>6</th>\n",
       "      <td>Estación Central</td>\n",
       "      <td>pct_desv_ruta</td>\n",
       "      <td>8.00</td>\n",
       "    </tr>\n",
       "    <tr>\n",
       "      <th>7</th>\n",
       "      <td>PetroSur S.A.</td>\n",
       "      <td>pct_desv_ruta</td>\n",
       "      <td>60.07</td>\n",
       "    </tr>\n",
       "  </tbody>\n",
       "</table>\n",
       "</div>"
      ],
      "text/plain": [
       "               cliente             Metric   Value\n",
       "0   Agropecuaria Fénix  prom_desv_ruta_km    5.38\n",
       "1  Distribuidora Norte  prom_desv_ruta_km    8.33\n",
       "2     Estación Central  prom_desv_ruta_km    8.00\n",
       "3        PetroSur S.A.  prom_desv_ruta_km  108.13\n",
       "4   Agropecuaria Fénix      pct_desv_ruta    3.16\n",
       "5  Distribuidora Norte      pct_desv_ruta    3.47\n",
       "6     Estación Central      pct_desv_ruta    8.00\n",
       "7        PetroSur S.A.      pct_desv_ruta   60.07"
      ]
     },
     "execution_count": 12,
     "metadata": {},
     "output_type": "execute_result"
    }
   ],
   "source": [
    "df_melted = df_indice_desv_ruta.melt(\n",
    "    id_vars='cliente',\n",
    "    value_vars=['prom_desv_ruta_km', 'pct_desv_ruta'],\n",
    "    var_name='Metric',\n",
    "    value_name='Value'\n",
    ")\n",
    "df_melted"
   ]
  },
  {
   "cell_type": "code",
   "execution_count": 13,
   "id": "bb102032",
   "metadata": {},
   "outputs": [
    {
     "data": {
      "image/png": "[encoded data removed]",
      "text/plain": [
       "<Figure size 700x400 with 1 Axes>"
      ]
     },
     "metadata": {},
     "output_type": "display_data"
    }
   ],
   "source": [
    "plt.figure(figsize=(7, 4))\n",
    "\n",
    "colores = ['#0077b6', '#90e0ef']\n",
    "\n",
    "sns.barplot(\n",
    "    data=df_melted,\n",
    "    x='cliente',\n",
    "    y='Value',\n",
    "    hue='Metric', \n",
    "    palette= colores\n",
    ")\n",
    "\n",
    "plt.title('Route Deviation Index')\n",
    "plt.xlabel('Customer')\n",
    "plt.ylabel('Value')\n",
    "\n",
    "handles, labels = plt.gca().get_legend_handles_labels()\n",
    "new_labels = ['Avg. Dev. Route (Km)', 'Dev. Route (%)']\n",
    "plt.legend(handles, new_labels, title='Metric')\n",
    "\n",
    "plt.tight_layout()\n",
    "\n",
    "plt.show()"
   ]
  },
  {
   "cell_type": "markdown",
   "id": "1b4df035",
   "metadata": {},
   "source": [
    "#### Truck influence on Customer PetroSur S.A."
   ]
  },
  {
   "cell_type": "code",
   "execution_count": 21,
   "id": "200bd4f8",
   "metadata": {},
   "outputs": [
    {
     "data": {
      "text/html": [
       "<div>\n",
       "<style scoped>\n",
       "    .dataframe tbody tr th:only-of-type {\n",
       "        vertical-align: middle;\n",
       "    }\n",
       "\n",
       "    .dataframe tbody tr th {\n",
       "        vertical-align: top;\n",
       "    }\n",
       "\n",
       "    .dataframe thead th {\n",
       "        text-align: right;\n",
       "    }\n",
       "</style>\n",
       "<table border=\"1\" class=\"dataframe\">\n",
       "  <thead>\n",
       "    <tr style=\"text-align: right;\">\n",
       "      <th></th>\n",
       "      <th>id_camion</th>\n",
       "      <th>total_entregas_camion</th>\n",
       "      <th>porcentaje_participacion</th>\n",
       "      <th>prom_recorrido_camion</th>\n",
       "      <th>prom_tiempo_camion</th>\n",
       "    </tr>\n",
       "  </thead>\n",
       "  <tbody>\n",
       "    <tr>\n",
       "      <th>0</th>\n",
       "      <td>3</td>\n",
       "      <td>5</td>\n",
       "      <td>62.5</td>\n",
       "      <td>295.0</td>\n",
       "      <td>400</td>\n",
       "    </tr>\n",
       "    <tr>\n",
       "      <th>1</th>\n",
       "      <td>1</td>\n",
       "      <td>2</td>\n",
       "      <td>25.0</td>\n",
       "      <td>280.0</td>\n",
       "      <td>365</td>\n",
       "    </tr>\n",
       "    <tr>\n",
       "      <th>2</th>\n",
       "      <td>2</td>\n",
       "      <td>1</td>\n",
       "      <td>12.5</td>\n",
       "      <td>270.0</td>\n",
       "      <td>380</td>\n",
       "    </tr>\n",
       "  </tbody>\n",
       "</table>\n",
       "</div>"
      ],
      "text/plain": [
       "   id_camion  total_entregas_camion  porcentaje_participacion  \\\n",
       "0          3                      5                      62.5   \n",
       "1          1                      2                      25.0   \n",
       "2          2                      1                      12.5   \n",
       "\n",
       "   prom_recorrido_camion  prom_tiempo_camion  \n",
       "0                  295.0                 400  \n",
       "1                  280.0                 365  \n",
       "2                  270.0                 380  "
      ]
     },
     "execution_count": 21,
     "metadata": {},
     "output_type": "execute_result"
    }
   ],
   "source": [
    "query = \"\"\"with entregas_cliente_4 as (\n",
    "                select e.id_entregas, e.id_camion, e.km_recorridos, e.entrega_minutos\n",
    "                from entregas e\n",
    "                join clientes c on e.id_cliente = c.id_cliente\n",
    "                where c.nombre = 'PetroSur S.A.')\n",
    "        select \n",
    "            id_camion,\n",
    "            count(id_entregas) AS total_entregas_camion,\n",
    "            (count(*) *100.0 / sum(count(*)) OVER ()) AS porcentaje_participacion,\n",
    "            avg(km_recorridos) as prom_recorrido_camion,\n",
    "            avg(entrega_minutos) as prom_tiempo_camion\n",
    "            from entregas_cliente_4\n",
    "            group by id_camion \n",
    "            order by porcentaje_participacion desc, prom_recorrido_camion desc, prom_tiempo_camion desc ;\"\"\"\n",
    "\n",
    "df_influencia_camiones_clien4 = pd.read_sql(query, conn)\n",
    "df_influencia_camiones_clien4"
   ]
  },
  {
   "cell_type": "code",
   "execution_count": 14,
   "id": "9ae28865",
   "metadata": {},
   "outputs": [],
   "source": [
    "conn.close()"
   ]
  }
 ],
 "metadata": {
  "kernelspec": {
   "display_name": "Python 3",
   "language": "python",
   "name": "python3"
  },
  "language_info": {
   "codemirror_mode": {
    "name": "ipython",
    "version": 3
   },
   "file_extension": ".py",
   "mimetype": "text/x-python",
   "name": "python",
   "nbconvert_exporter": "python",
   "pygments_lexer": "ipython3",
   "version": "3.13.1"
  }
 },
 "nbformat": 4,
 "nbformat_minor": 5
}
